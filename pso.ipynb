{
 "cells": [
  {
   "cell_type": "code",
   "execution_count": 1,
   "metadata": {
    "collapsed": true
   },
   "outputs": [],
   "source": [
    "import pandas as pd\n",
    "import numpy as np\n",
    "from matplotlib import pyplot as plt\n",
    "# import sorting\n",
    "import random\n",
    "from sklearn.preprocessing import MinMaxScaler\n",
    "import math\n",
    "from collections import Counter,OrderedDict"
   ]
  },
  {
   "cell_type": "code",
   "execution_count": 2,
   "metadata": {},
   "outputs": [],
   "source": [
    "# import ipywidgets as widgets\n",
    "# !pip install ipywidgets"
   ]
  },
  {
   "cell_type": "code",
   "execution_count": 122,
   "metadata": {
    "collapsed": true
   },
   "outputs": [],
   "source": [
    "movie_data=pd.read_csv('movies.csv')\n",
    "links=pd.read_csv('links.csv')\n",
    "ratings=pd.read_csv('ratings.csv')\n",
    "tags=pd.read_csv('tags.csv')"
   ]
  },
  {
   "cell_type": "code",
   "execution_count": 124,
   "metadata": {},
   "outputs": [
    {
     "data": {
      "text/plain": [
       "(array([0., 0., 0., ..., 0., 0., 0.]),\n",
       " array([ 0.20301172, -0.08113113, -0.01858564, ..., -0.17161535,\n",
       "        -0.10919687,  0.00021891]))"
      ]
     },
     "execution_count": 124,
     "metadata": {},
     "output_type": "execute_result"
    }
   ],
   "source": [
    "user_rating[1], pred_matrix"
   ]
  },
  {
   "cell_type": "code",
   "execution_count": 4,
   "metadata": {
    "collapsed": true
   },
   "outputs": [],
   "source": [
    "user_rating=np.zeros((len(np.unique(ratings['userId'])),len(np.unique(ratings['movieId']))))\n",
    "train=np.zeros(user_rating.shape)\n",
    "test=np.zeros(user_rating.shape)"
   ]
  },
  {
   "cell_type": "code",
   "execution_count": 5,
   "metadata": {
    "collapsed": true
   },
   "outputs": [],
   "source": [
    "for i in np.unique(ratings['userId']):\n",
    "    k=ratings[ratings['userId']==i]\n",
    "    for j in range(len(k)):\n",
    "        if (k['movieId'].iloc[j]-1<=9742):\n",
    "            user_rating[i-1,k['movieId'].iloc[j]-1]=k['rating'].iloc[j]"
   ]
  },
  {
   "cell_type": "code",
   "execution_count": 88,
   "metadata": {},
   "outputs": [
    {
     "data": {
      "text/plain": [
       "(array([[4. , 0. , 4. , ..., 0. , 0. , 0. ],\n",
       "        [0. , 0. , 0. , ..., 0. , 0. , 0. ],\n",
       "        [0. , 0. , 0. , ..., 0. , 0. , 0. ],\n",
       "        ...,\n",
       "        [2.5, 2. , 2. , ..., 0. , 0. , 0. ],\n",
       "        [3. , 0. , 0. , ..., 0. , 0. , 0. ],\n",
       "        [5. , 0. , 0. , ..., 0. , 0. , 0. ]]), (610, 9724))"
      ]
     },
     "execution_count": 88,
     "metadata": {},
     "output_type": "execute_result"
    }
   ],
   "source": [
    "user_rating, user_rating.shape"
   ]
  },
  {
   "cell_type": "code",
   "execution_count": 7,
   "metadata": {
    "collapsed": true
   },
   "outputs": [],
   "source": [
    "# user.shape"
   ]
  },
  {
   "cell_type": "code",
   "execution_count": 118,
   "metadata": {},
   "outputs": [],
   "source": [
    "# gbest_users = []\n",
    "# gbest_movies = []\n",
    "from tqdm import tqdm as tqdm\n",
    "gbest = None\n",
    "# gbest_user = None\n",
    "# gbest_movie = None\n",
    "class Particle:\n",
    "    \n",
    "    def __init__(self, user_dims, movie_dims):\n",
    "        \n",
    "        self.error = float('inf')\n",
    "        \n",
    "        ####### USERS #######\n",
    "#         self.curr_users = []\n",
    "#         self.per_best_user = []\n",
    "        self.curr_user = np.random.random(user_dims) #(610,k)\n",
    "        self.per_best_user = self.curr_user\n",
    "        self.velocity_user = np.random.random(user_dims)\n",
    "        \n",
    "        \n",
    "#         self.curr_movies = []\n",
    "#         self.velocity = []\n",
    "#         self.per_best_movies = []\n",
    "\n",
    "        ####### MOVIES #######\n",
    "        self.curr_movie = np.random.random(movie_dims) #(9724,k)\n",
    "        self.per_best_movie = self.curr_movie\n",
    "        self.velocity_movie = np.random.random(movie_dims)\n",
    "        \n",
    "        \n",
    "#         self.personal_best = np.dot(self.per_best_user, self.per_best_movie.T)\n",
    "#         self.velocity = (np.random.random(dimens))\n",
    "        \n",
    "        \n",
    "        \n",
    "        \n",
    "        \n",
    "    def __str__(self):\n",
    "        return \"My error is {err}\".format(err = self.error)\n",
    "    \n",
    "    \n",
    "    def move(self):\n",
    "        self.curr_user += self.velocity_user\n",
    "        self.curr_movie += self.velocity_movie\n",
    "        \n",
    "        \n",
    "def RMSE(prediction, target):\n",
    "    return np.sqrt(np.mean((prediction-target)**2))\n",
    "\n",
    "\n",
    "def PSO(iterations, population, c1, c2, result, latent_features):\n",
    "    \n",
    "    particles = []\n",
    "    \n",
    "    user_dims = (result.shape[0], latent_features)\n",
    "    movie_dims = (result.shape[1], latent_features)\n",
    "    print(\"userDims: \",user_dims)\n",
    "    print(\"movie_dims: \",movie_dims)\n",
    "#     pbar = tqdm(total=iterations)\n",
    "    for i in range(population):\n",
    "        particles.append(Particle(user_dims,movie_dims))\n",
    "    \n",
    "    error_min = 0.000001\n",
    "    i = 0\n",
    "    error = float(\"inf\")\n",
    "    gbest = Particle(user_dims,movie_dims)\n",
    "#     gbest = particles[0]\n",
    "    pred_matrix = None\n",
    "    # number of epochs\n",
    "    while i < iterations and gbest.error > error_min:\n",
    "        \n",
    "        for particle in tqdm(particles):\n",
    "#             print(particle.curr_user)\n",
    "            # result matrix that the particle produces\n",
    "            particle_res = np.dot(particle.curr_user, particle.curr_movie.T)\n",
    "#             print(particle_res.shape)\n",
    "            \n",
    "            # error\n",
    "            particle_error = RMSE(particle_res, result)\n",
    "#             print(particle_error)\n",
    "            if particle_error < particle.error:\n",
    "#                 particle.personal_best = particle_res\n",
    "                particle.per_best_user = particle.curr_user\n",
    "                particle.per_best_movie = particle.curr_movie\n",
    "                particle.error = particle_error\n",
    "                \n",
    "            if particle_error < gbest.error:\n",
    "                \n",
    "                gbest = particle\n",
    "#                 print(\"here\")\n",
    "#                 gbest.error = particle.error\n",
    "#                 gbest.curr_user = particle.curr_user\n",
    "#                 gbest.curr_movie = particle.curr_movie\n",
    "#                 gbest.per_best_user = particle.per_best_user\n",
    "#                 gbest.per_best_movie = particle.per_best_movie\n",
    "                pred_matrix = particle_res\n",
    "#                 print(gbest)\n",
    "                \n",
    "                \n",
    "        for particle in particles:\n",
    "            particle.velocity_user = 0.02*particle.velocity_user + c1*random.random()*(particle.per_best_user - particle.curr_user) + c2*random.random()*(gbest.per_best_user - particle.curr_user)\n",
    "            particle.velocity_movie = 0.02*particle.velocity_movie + c1*random.random()*(particle.per_best_movie - particle.curr_movie) + c2*random.random()*(gbest.per_best_movie - particle.curr_movie)\n",
    "            particle.move()\n",
    "                \n",
    "            \n",
    "        print('epoch: {ep}, error {gbest}'.format(ep=i,gbest=gbest.error))\n",
    "        i += 1\n",
    "#         pbar.update(1)\n",
    "            \n",
    "#     pbar.close()\n",
    "    return (gbest, pred_matrix)\n",
    "    \n",
    "    \n",
    "# particle = Particle(2,2)\n",
    "# print(particle.move)\n",
    "# print(particle.curr_user)\n",
    "# particle.move()\n",
    "# print(particle.curr_user)"
   ]
  },
  {
   "cell_type": "code",
   "execution_count": 121,
   "metadata": {},
   "outputs": [
    {
     "name": "stdout",
     "output_type": "stream",
     "text": [
      "userDims:  (610, 3)\n",
      "movie_dims:  (9724, 3)\n"
     ]
    },
    {
     "name": "stderr",
     "output_type": "stream",
     "text": [
      "100%|████████████████████████████████████████████████████████████████████████████████| 500/500 [00:38<00:00, 13.06it/s]\n",
      "  0%|▎                                                                                 | 2/500 [00:00<00:33, 15.08it/s]"
     ]
    },
    {
     "name": "stdout",
     "output_type": "stream",
     "text": [
      "epoch: 0, error 0.8758399956223206\n"
     ]
    },
    {
     "name": "stderr",
     "output_type": "stream",
     "text": [
      "100%|████████████████████████████████████████████████████████████████████████████████| 500/500 [00:36<00:00, 13.60it/s]\n",
      "  0%|▎                                                                                 | 2/500 [00:00<00:31, 15.79it/s]"
     ]
    },
    {
     "name": "stdout",
     "output_type": "stream",
     "text": [
      "epoch: 1, error 0.8682911551491631\n"
     ]
    },
    {
     "name": "stderr",
     "output_type": "stream",
     "text": [
      "100%|████████████████████████████████████████████████████████████████████████████████| 500/500 [00:35<00:00, 14.01it/s]\n",
      "  0%|▎                                                                                 | 2/500 [00:00<00:34, 14.64it/s]"
     ]
    },
    {
     "name": "stdout",
     "output_type": "stream",
     "text": [
      "epoch: 2, error 0.8486500556332625\n"
     ]
    },
    {
     "name": "stderr",
     "output_type": "stream",
     "text": [
      "100%|████████████████████████████████████████████████████████████████████████████████| 500/500 [00:38<00:00, 12.83it/s]\n",
      "  0%|▎                                                                                 | 2/500 [00:00<00:32, 15.55it/s]"
     ]
    },
    {
     "name": "stdout",
     "output_type": "stream",
     "text": [
      "epoch: 3, error 0.8438842817568206\n"
     ]
    },
    {
     "name": "stderr",
     "output_type": "stream",
     "text": [
      "100%|████████████████████████████████████████████████████████████████████████████████| 500/500 [00:40<00:00, 12.31it/s]\n",
      "  0%|▎                                                                                 | 2/500 [00:00<00:31, 16.05it/s]"
     ]
    },
    {
     "name": "stdout",
     "output_type": "stream",
     "text": [
      "epoch: 4, error 0.8357570993807742\n"
     ]
    },
    {
     "name": "stderr",
     "output_type": "stream",
     "text": [
      "100%|████████████████████████████████████████████████████████████████████████████████| 500/500 [00:42<00:00, 11.65it/s]\n",
      "  0%|▎                                                                                 | 2/500 [00:00<00:37, 13.11it/s]"
     ]
    },
    {
     "name": "stdout",
     "output_type": "stream",
     "text": [
      "epoch: 5, error 0.8302014483764294\n"
     ]
    },
    {
     "name": "stderr",
     "output_type": "stream",
     "text": [
      "100%|████████████████████████████████████████████████████████████████████████████████| 500/500 [00:39<00:00, 12.79it/s]\n",
      "  0%|▎                                                                                 | 2/500 [00:00<00:33, 14.84it/s]"
     ]
    },
    {
     "name": "stdout",
     "output_type": "stream",
     "text": [
      "epoch: 6, error 0.7972786988154666\n"
     ]
    },
    {
     "name": "stderr",
     "output_type": "stream",
     "text": [
      "100%|████████████████████████████████████████████████████████████████████████████████| 500/500 [00:43<00:00, 11.56it/s]\n",
      "  0%|▎                                                                                 | 2/500 [00:00<00:30, 16.22it/s]"
     ]
    },
    {
     "name": "stdout",
     "output_type": "stream",
     "text": [
      "epoch: 7, error 0.7941862301273164\n"
     ]
    },
    {
     "name": "stderr",
     "output_type": "stream",
     "text": [
      "100%|████████████████████████████████████████████████████████████████████████████████| 500/500 [01:06<00:00,  7.48it/s]\n",
      "  0%|▏                                                                                 | 1/500 [00:00<01:03,  7.83it/s]"
     ]
    },
    {
     "name": "stdout",
     "output_type": "stream",
     "text": [
      "epoch: 8, error 0.7853202550702199\n"
     ]
    },
    {
     "name": "stderr",
     "output_type": "stream",
     "text": [
      "100%|████████████████████████████████████████████████████████████████████████████████| 500/500 [01:02<00:00,  8.05it/s]\n"
     ]
    },
    {
     "name": "stdout",
     "output_type": "stream",
     "text": [
      "epoch: 9, error 0.7853202550702199\n"
     ]
    },
    {
     "data": {
      "text/plain": [
       "(610, 9724)"
      ]
     },
     "execution_count": 121,
     "metadata": {},
     "output_type": "execute_result"
    }
   ],
   "source": [
    "gbest, pred_matrix = PSO(10,500,2,5,user_rating,latent_features=3)\n",
    "pred_matrix.shape\n"
   ]
  },
  {
   "cell_type": "code",
   "execution_count": null,
   "metadata": {},
   "outputs": [],
   "source": [
    "user_rating.shape"
   ]
  },
  {
   "cell_type": "code",
   "execution_count": 69,
   "metadata": {},
   "outputs": [
    {
     "name": "stderr",
     "output_type": "stream",
     "text": [
      "Enabling notebook extension jupyter-js-widgets/extension...\n",
      "      - Validating: ok\n"
     ]
    }
   ],
   "source": [
    "# !jupyter nbextension enable --py widgetsnbextension"
   ]
  },
  {
   "cell_type": "code",
   "execution_count": null,
   "metadata": {},
   "outputs": [],
   "source": [
    "u"
   ]
  }
 ],
 "metadata": {
  "kernelspec": {
   "display_name": "Python 3",
   "language": "python",
   "name": "python3"
  },
  "language_info": {
   "codemirror_mode": {
    "name": "ipython",
    "version": 3
   },
   "file_extension": ".py",
   "mimetype": "text/x-python",
   "name": "python",
   "nbconvert_exporter": "python",
   "pygments_lexer": "ipython3",
   "version": "3.5.6"
  }
 },
 "nbformat": 4,
 "nbformat_minor": 2
}
