{
 "cells": [
  {
   "cell_type": "code",
   "execution_count": 1,
   "metadata": {
    "collapsed": true
   },
   "outputs": [],
   "source": [
    "import pandas as pd\n",
    "import numpy as np\n",
    "from matplotlib import pyplot as plt\n",
    "# import sorting\n",
    "import random\n",
    "from sklearn.preprocessing import MinMaxScaler\n",
    "import math\n",
    "from collections import Counter,OrderedDict"
   ]
  },
  {
   "cell_type": "code",
   "execution_count": 2,
   "metadata": {},
   "outputs": [],
   "source": [
    "# import ipywidgets as widgets\n",
    "# !pip install ipywidgets"
   ]
  },
  {
   "cell_type": "code",
   "execution_count": 122,
   "metadata": {
    "collapsed": true
   },
   "outputs": [],
   "source": [
    "movie_data=pd.read_csv('movies.csv')\n",
    "links=pd.read_csv('links.csv')\n",
    "ratings=pd.read_csv('ratings.csv')\n",
    "tags=pd.read_csv('tags.csv')"
   ]
  },
  {
   "cell_type": "code",
   "execution_count": 124,
   "metadata": {},
   "outputs": [
    {
     "data": {
      "text/plain": [
       "(array([0., 0., 0., ..., 0., 0., 0.]),\n",
       " array([ 0.20301172, -0.08113113, -0.01858564, ..., -0.17161535,\n",
       "        -0.10919687,  0.00021891]))"
      ]
     },
     "execution_count": 124,
     "metadata": {},
     "output_type": "execute_result"
    }
   ],
   "source": [
    "user_rating[1], pred_matrix"
   ]
  },
  {
   "cell_type": "code",
   "execution_count": 4,
   "metadata": {
    "collapsed": true
   },
   "outputs": [],
   "source": [
    "user_rating=np.zeros((len(np.unique(ratings['userId'])),len(np.unique(ratings['movieId']))))\n",
    "train=np.zeros(user_rating.shape)\n",
    "test=np.zeros(user_rating.shape)"
   ]
  },
  {
   "cell_type": "code",
   "execution_count": 5,
   "metadata": {
    "collapsed": true
   },
   "outputs": [],
   "source": [
    "for i in np.unique(ratings['userId']):\n",
    "    k=ratings[ratings['userId']==i]\n",
    "    for j in range(len(k)):\n",
    "        if (k['movieId'].iloc[j]-1<=9742):\n",
    "            user_rating[i-1,k['movieId'].iloc[j]-1]=k['rating'].iloc[j]"
   ]
  },
  {
   "cell_type": "code",
   "execution_count": 88,
   "metadata": {},
   "outputs": [
    {
     "data": {
      "text/plain": [
       "(array([[4. , 0. , 4. , ..., 0. , 0. , 0. ],\n",
       "        [0. , 0. , 0. , ..., 0. , 0. , 0. ],\n",
       "        [0. , 0. , 0. , ..., 0. , 0. , 0. ],\n",
       "        ...,\n",
       "        [2.5, 2. , 2. , ..., 0. , 0. , 0. ],\n",
       "        [3. , 0. , 0. , ..., 0. , 0. , 0. ],\n",
       "        [5. , 0. , 0. , ..., 0. , 0. , 0. ]]), (610, 9724))"
      ]
     },
     "execution_count": 88,
     "metadata": {},
     "output_type": "execute_result"
    }
   ],
   "source": [
    "user_rating, user_rating.shape"
   ]
  },
  {
   "cell_type": "code",
   "execution_count": 7,
   "metadata": {
    "collapsed": true
   },
   "outputs": [],
   "source": [
    "# user.shape"
   ]
  },
  {
   "cell_type": "code",
   "execution_count": 118,
   "metadata": {},
   "outputs": [],
   "source": [
    "# gbest_users = []\n",
    "# gbest_movies = []\n",
    "from tqdm import tqdm as tqdm\n",
    "gbest = None\n",
    "# gbest_user = None\n",
    "# gbest_movie = None\n",
    "class Particle:\n",
    "    \n",
    "    def __init__(self, user_dims, movie_dims):\n",
    "        \n",
    "        self.error = float('inf')\n",
    "        \n",
    "        ####### USERS #######\n",
    "#         self.curr_users = []\n",
    "#         self.per_best_user = []\n",
    "        self.curr_user = np.random.random(user_dims) #(610,k)\n",
    "        self.per_best_user = self.curr_user\n",
    "        self.velocity_user = np.random.random(user_dims)\n",
    "        \n",
    "        \n",
    "#         self.curr_movies = []\n",
    "#         self.velocity = []\n",
    "#         self.per_best_movies = []\n",
    "\n",
    "        ####### MOVIES #######\n",
    "        self.curr_movie = np.random.random(movie_dims) #(9724,k)\n",
    "        self.per_best_movie = self.curr_movie\n",
    "        self.velocity_movie = np.random.random(movie_dims)\n",
    "        \n",
    "        \n",
    "#         self.personal_best = np.dot(self.per_best_user, self.per_best_movie.T)\n",
    "#         self.velocity = (np.random.random(dimens))\n",
    "        \n",
    "        \n",
    "        \n",
    "        \n",
    "        \n",
    "    def __str__(self):\n",
    "        return \"My error is {err}\".format(err = self.error)\n",
    "    \n",
    "    \n",
    "    def move(self):\n",
    "        self.curr_user += self.velocity_user\n",
    "        self.curr_movie += self.velocity_movie\n",
    "        \n",
    "        \n",
    "def RMSE(prediction, target):\n",
    "    return np.sqrt(np.mean((prediction-target)**2))\n",
    "\n",
    "\n",
    "def PSO(iterations, population, c1, c2, result, latent_features):\n",
    "    \n",
    "    particles = []\n",
    "    \n",
    "    user_dims = (result.shape[0], latent_features)\n",
    "    movie_dims = (result.shape[1], latent_features)\n",
    "    print(\"userDims: \",user_dims)\n",
    "    print(\"movie_dims: \",movie_dims)\n",
    "#     pbar = tqdm(total=iterations)\n",
    "    for i in range(population):\n",
    "        particles.append(Particle(user_dims,movie_dims))\n",
    "    \n",
    "    error_min = 0.000001\n",
    "    i = 0\n",
    "    error = float(\"inf\")\n",
    "    gbest = Particle(user_dims,movie_dims)\n",
    "#     gbest = particles[0]\n",
    "    pred_matrix = None\n",
    "    # number of epochs\n",
    "    while i < iterations and gbest.error > error_min:\n",
    "        \n",
    "        for particle in tqdm(particles):\n",
    "#             print(particle.curr_user)\n",
    "            # result matrix that the particle produces\n",
    "            particle_res = np.dot(particle.curr_user, particle.curr_movie.T)\n",
    "#             print(particle_res.shape)\n",
    "            \n",
    "            # error\n",
    "            particle_error = RMSE(particle_res, result)\n",
    "#             print(particle_error)\n",
    "            if particle_error < particle.error:\n",
    "#                 particle.personal_best = particle_res\n",
    "                particle.per_best_user = particle.curr_user\n",
    "                particle.per_best_movie = particle.curr_movie\n",
    "                particle.error = particle_error\n",
    "                \n",
    "            if particle_error < gbest.error:\n",
    "                \n",
    "                gbest = particle\n",
    "#                 print(\"here\")\n",
    "#                 gbest.error = particle.error\n",
    "#                 gbest.curr_user = particle.curr_user\n",
    "#                 gbest.curr_movie = particle.curr_movie\n",
    "#                 gbest.per_best_user = particle.per_best_user\n",
    "#                 gbest.per_best_movie = particle.per_best_movie\n",
    "                pred_matrix = particle_res\n",
    "#                 print(gbest)\n",
    "                \n",
    "                \n",
    "        for particle in particles:\n",
    "            particle.velocity_user = 0.02*particle.velocity_user + c1*random.random()*(particle.per_best_user - particle.curr_user) + c2*random.random()*(gbest.per_best_user - particle.curr_user)\n",
    "            particle.velocity_movie = 0.02*particle.velocity_movie + c1*random.random()*(particle.per_best_movie - particle.curr_movie) + c2*random.random()*(gbest.per_best_movie - particle.curr_movie)\n",
    "            particle.move()\n",
    "                \n",
    "            \n",
    "        print('epoch: {ep}, error {gbest}'.format(ep=i,gbest=gbest.error))\n",
    "        i += 1\n",
    "#         pbar.update(1)\n",
    "            \n",
    "#     pbar.close()\n",
    "    return (gbest, pred_matrix)\n",
    "    \n",
    "    \n",
    "# particle = Particle(2,2)\n",
    "# print(particle.move)\n",
    "# print(particle.curr_user)\n",
    "# particle.move()\n",
    "# print(particle.curr_user)"
   ]
  },
  {
   "cell_type": "code",
   "execution_count": 121,
   "metadata": {},
   "outputs": [
    {
     "name": "stdout",
     "output_type": "stream",
     "text": [
      "userDims:  (610, 3)\n",
      "movie_dims:  (9724, 3)\n"
     ]
    },
    {
     "name": "stderr",
     "output_type": "stream",
     "text": [
      "100%|████████████████████████████████████████████████████████████████████████████████| 500/500 [00:38<00:00, 13.06it/s]\n",
      "  0%|▎                                                                                 | 2/500 [00:00<00:33, 15.08it/s]"
     ]
    },
    {
     "name": "stdout",
     "output_type": "stream",
     "text": [
      "epoch: 0, error 0.8758399956223206\n"
     ]
    },
    {
     "name": "stderr",
     "output_type": "stream",
     "text": [
      "100%|████████████████████████████████████████████████████████████████████████████████| 500/500 [00:36<00:00, 13.60it/s]\n",
      "  0%|▎                                                                                 | 2/500 [00:00<00:31, 15.79it/s]"
     ]
    },
    {
     "name": "stdout",
     "output_type": "stream",
     "text": [
      "epoch: 1, error 0.8682911551491631\n"
     ]
    },
    {
     "name": "stderr",
     "output_type": "stream",
     "text": [
      "100%|████████████████████████████████████████████████████████████████████████████████| 500/500 [00:35<00:00, 14.01it/s]\n",
      "  0%|▎                                                                                 | 2/500 [00:00<00:34, 14.64it/s]"
     ]
    },
    {
     "name": "stdout",
     "output_type": "stream",
     "text": [
      "epoch: 2, error 0.8486500556332625\n"
     ]
    },
    {
     "name": "stderr",
     "output_type": "stream",
     "text": [
      "100%|████████████████████████████████████████████████████████████████████████████████| 500/500 [00:38<00:00, 12.83it/s]\n",
      "  0%|▎                                                                                 | 2/500 [00:00<00:32, 15.55it/s]"
     ]
    },
    {
     "name": "stdout",
     "output_type": "stream",
     "text": [
      "epoch: 3, error 0.8438842817568206\n"
     ]
    },
    {
     "name": "stderr",
     "output_type": "stream",
     "text": [
      "100%|████████████████████████████████████████████████████████████████████████████████| 500/500 [00:40<00:00, 12.31it/s]\n",
      "  0%|▎                                                                                 | 2/500 [00:00<00:31, 16.05it/s]"
     ]
    },
    {
     "name": "stdout",
     "output_type": "stream",
     "text": [
      "epoch: 4, error 0.8357570993807742\n"
     ]
    },
    {
     "name": "stderr",
     "output_type": "stream",
     "text": [
      "100%|████████████████████████████████████████████████████████████████████████████████| 500/500 [00:42<00:00, 11.65it/s]\n",
      "  0%|▎                                                                                 | 2/500 [00:00<00:37, 13.11it/s]"
     ]
    },
    {
     "name": "stdout",
     "output_type": "stream",
     "text": [
      "epoch: 5, error 0.8302014483764294\n"
     ]
    },
    {
     "name": "stderr",
     "output_type": "stream",
     "text": [
      "100%|████████████████████████████████████████████████████████████████████████████████| 500/500 [00:39<00:00, 12.79it/s]\n",
      "  0%|▎                                                                                 | 2/500 [00:00<00:33, 14.84it/s]"
     ]
    },
    {
     "name": "stdout",
     "output_type": "stream",
     "text": [
      "epoch: 6, error 0.7972786988154666\n"
     ]
    },
    {
     "name": "stderr",
     "output_type": "stream",
     "text": [
      "100%|████████████████████████████████████████████████████████████████████████████████| 500/500 [00:43<00:00, 11.56it/s]\n",
      "  0%|▎                                                                                 | 2/500 [00:00<00:30, 16.22it/s]"
     ]
    },
    {
     "name": "stdout",
     "output_type": "stream",
     "text": [
      "epoch: 7, error 0.7941862301273164\n"
     ]
    },
    {
     "name": "stderr",
     "output_type": "stream",
     "text": [
      "100%|████████████████████████████████████████████████████████████████████████████████| 500/500 [01:06<00:00,  7.48it/s]\n",
      "  0%|▏                                                                                 | 1/500 [00:00<01:03,  7.83it/s]"
     ]
    },
    {
     "name": "stdout",
     "output_type": "stream",
     "text": [
      "epoch: 8, error 0.7853202550702199\n"
     ]
    },
    {
     "name": "stderr",
     "output_type": "stream",
     "text": [
      "100%|████████████████████████████████████████████████████████████████████████████████| 500/500 [01:02<00:00,  8.05it/s]\n"
     ]
    },
    {
     "name": "stdout",
     "output_type": "stream",
     "text": [
      "epoch: 9, error 0.7853202550702199\n"
     ]
    },
    {
     "data": {
      "text/plain": [
       "(610, 9724)"
      ]
     },
     "execution_count": 121,
     "metadata": {},
     "output_type": "execute_result"
    }
   ],
   "source": [
    "gbest, pred_matrix = PSO(10,500,2,5,user_rating,latent_features=3)\n",
    "pred_matrix.shape\n"
   ]
  },
  {
   "cell_type": "code",
   "execution_count": 126,
   "metadata": {},
   "outputs": [
    {
     "data": {
      "text/plain": [
       "(610, 9724)"
      ]
     },
     "execution_count": 126,
     "metadata": {},
     "output_type": "execute_result"
    }
   ],
   "source": [
    "user_rating.shape"
   ]
  },
  {
   "cell_type": "code",
   "execution_count": 69,
   "metadata": {},
   "outputs": [
    {
     "name": "stderr",
     "output_type": "stream",
     "text": [
      "Enabling notebook extension jupyter-js-widgets/extension...\n",
      "      - Validating: ok\n"
     ]
    }
   ],
   "source": [
    "# !jupyter nbextension enable --py widgetsnbextension"
   ]
  },
  {
   "cell_type": "code",
   "execution_count": 139,
   "metadata": {},
   "outputs": [],
   "source": [
    "# gbest_users = []\n",
    "# gbest_movies = []\n",
    "from tqdm import tqdm as tqdm\n",
    "gbest = None\n",
    "# gbest_user = None\n",
    "# gbest_movie = None\n",
    "class Particle:\n",
    "    \n",
    "    def __init__(self, user_dims, movie_dims):\n",
    "        \n",
    "        self.error = float('inf')\n",
    "        \n",
    "        ####### USERS #######\n",
    "#         self.curr_users = []\n",
    "#         self.per_best_user = []\n",
    "        self.curr_user = np.random.random(user_dims) #(610,k)\n",
    "        self.per_best_user = self.curr_user\n",
    "        self.velocity_user = np.random.random(user_dims)\n",
    "        \n",
    "        \n",
    "#         self.curr_movies = []\n",
    "#         self.velocity = []\n",
    "#         self.per_best_movies = []\n",
    "\n",
    "        ####### MOVIES #######\n",
    "        self.curr_movie = np.random.random(movie_dims) #(9724,k)\n",
    "        self.per_best_movie = self.curr_movie\n",
    "        self.velocity_movie = np.random.random(movie_dims)\n",
    "        \n",
    "        \n",
    "#         self.personal_best = np.dot(self.per_best_user, self.per_best_movie.T)\n",
    "#         self.velocity = (np.random.random(dimens))\n",
    "        \n",
    "        \n",
    "        \n",
    "        \n",
    "        \n",
    "    def __str__(self):\n",
    "        return \"My error is {err}\".format(err = self.error)\n",
    "    \n",
    "    \n",
    "    def move(self):\n",
    "        self.curr_user += self.velocity_user\n",
    "        self.curr_movie += self.velocity_movie\n",
    "        \n",
    "        \n",
    "def RMSE(prediction, target):\n",
    "    return np.sqrt(np.mean((prediction-target)**2))\n",
    "\n",
    "\n",
    "def PSO(iterations, population, w, c1, c2, result, latent_features):\n",
    "    \n",
    "    particles = []\n",
    "    errors = []\n",
    "    user_dims = (result.shape[0], latent_features)\n",
    "    movie_dims = (result.shape[1], latent_features)\n",
    "    print(\"userDims: \",user_dims)\n",
    "    print(\"movie_dims: \",movie_dims)\n",
    "#     pbar = tqdm(total=iterations)\n",
    "    for i in range(population):\n",
    "        particles.append(Particle(user_dims,movie_dims))\n",
    "    \n",
    "    error_min = 0.000001\n",
    "    i = 0\n",
    "    error = float(\"inf\")\n",
    "    gbest = Particle(user_dims,movie_dims)\n",
    "#     gbest = particles[0]\n",
    "    pred_matrix = None\n",
    "    # number of epochs\n",
    "    while i < iterations and gbest.error > error_min:\n",
    "        \n",
    "        for particle in tqdm(particles):\n",
    "#             print(particle.curr_user)\n",
    "            # result matrix that the particle produces\n",
    "            particle_res = np.dot(particle.curr_user, particle.curr_movie.T)\n",
    "#             print(particle_res.shape)\n",
    "            \n",
    "            # error\n",
    "            particle_error = RMSE(particle_res, result)\n",
    "#             print(particle_error)\n",
    "            if particle_error < particle.error:\n",
    "#                 particle.personal_best = particle_res\n",
    "                particle.per_best_user = particle.curr_user\n",
    "                particle.per_best_movie = particle.curr_movie\n",
    "                particle.error = particle_error\n",
    "                \n",
    "            if particle_error < gbest.error:\n",
    "                \n",
    "                gbest = particle\n",
    "#                 print(\"here\")\n",
    "#                 gbest.error = particle.error\n",
    "#                 gbest.curr_user = particle.curr_user\n",
    "#                 gbest.curr_movie = particle.curr_movie\n",
    "#                 gbest.per_best_user = particle.per_best_user\n",
    "#                 gbest.per_best_movie = particle.per_best_movie\n",
    "                pred_matrix = particle_res\n",
    "#                 print(gbest)\n",
    "                \n",
    "                \n",
    "        for particle in particles:\n",
    "            particle.velocity_user = w*particle.velocity_user + c1*random.random()*(particle.per_best_user - particle.curr_user) + c2*random.random()*(gbest.per_best_user - particle.curr_user)\n",
    "            particle.velocity_movie = w*particle.velocity_movie + c1*random.random()*(particle.per_best_movie - particle.curr_movie) + c2*random.random()*(gbest.per_best_movie - particle.curr_movie)\n",
    "            particle.move()\n",
    "                \n",
    "        errors.append(gbest.error)\n",
    "        print('epoch: {ep}, error {gbest}'.format(ep=i,gbest=gbest.error))\n",
    "        i += 1\n",
    "#         pbar.update(1)\n",
    "            \n",
    "#     pbar.close()\n",
    "    return (gbest, pred_matrix, errors)\n",
    "    \n",
    "    \n",
    "# particle = Particle(2,2)\n",
    "# print(particle.move)\n",
    "# print(particle.curr_user)\n",
    "# particle.move()\n",
    "# print(particle.curr_user)"
   ]
  },
  {
   "cell_type": "code",
   "execution_count": 140,
   "metadata": {},
   "outputs": [
    {
     "name": "stdout",
     "output_type": "stream",
     "text": [
      "userDims:  (610, 3)\n",
      "movie_dims:  (9724, 3)\n"
     ]
    },
    {
     "name": "stderr",
     "output_type": "stream",
     "text": [
      "100%|████████████████████████████████████████████████████████████████████████████████| 500/500 [00:35<00:00, 14.03it/s]\n",
      "  0%|▎                                                                                 | 2/500 [00:00<00:29, 16.71it/s]"
     ]
    },
    {
     "name": "stdout",
     "output_type": "stream",
     "text": [
      "epoch: 0, error 0.8757188885704215\n"
     ]
    },
    {
     "name": "stderr",
     "output_type": "stream",
     "text": [
      "100%|████████████████████████████████████████████████████████████████████████████████| 500/500 [00:35<00:00, 14.27it/s]\n",
      "  0%|▎                                                                                 | 2/500 [00:00<00:31, 15.92it/s]"
     ]
    },
    {
     "name": "stdout",
     "output_type": "stream",
     "text": [
      "epoch: 1, error 0.8752092752205722\n"
     ]
    },
    {
     "name": "stderr",
     "output_type": "stream",
     "text": [
      "100%|████████████████████████████████████████████████████████████████████████████████| 500/500 [00:38<00:00, 13.05it/s]\n",
      "  0%|▎                                                                                 | 2/500 [00:00<00:31, 15.79it/s]"
     ]
    },
    {
     "name": "stdout",
     "output_type": "stream",
     "text": [
      "epoch: 2, error 0.8668160726912457\n"
     ]
    },
    {
     "name": "stderr",
     "output_type": "stream",
     "text": [
      "100%|████████████████████████████████████████████████████████████████████████████████| 500/500 [00:33<00:00, 14.79it/s]\n",
      "  0%|▎                                                                                 | 2/500 [00:00<00:33, 14.97it/s]"
     ]
    },
    {
     "name": "stdout",
     "output_type": "stream",
     "text": [
      "epoch: 3, error 0.8613179175056179\n"
     ]
    },
    {
     "name": "stderr",
     "output_type": "stream",
     "text": [
      "100%|████████████████████████████████████████████████████████████████████████████████| 500/500 [00:36<00:00, 13.86it/s]\n",
      "  0%|▎                                                                                 | 2/500 [00:00<00:34, 14.43it/s]"
     ]
    },
    {
     "name": "stdout",
     "output_type": "stream",
     "text": [
      "epoch: 4, error 0.8613179175056179\n"
     ]
    },
    {
     "name": "stderr",
     "output_type": "stream",
     "text": [
      "100%|████████████████████████████████████████████████████████████████████████████████| 500/500 [00:36<00:00, 13.61it/s]\n",
      "  0%|▎                                                                                 | 2/500 [00:00<00:31, 16.04it/s]"
     ]
    },
    {
     "name": "stdout",
     "output_type": "stream",
     "text": [
      "epoch: 5, error 0.8602237454794178\n"
     ]
    },
    {
     "name": "stderr",
     "output_type": "stream",
     "text": [
      "100%|████████████████████████████████████████████████████████████████████████████████| 500/500 [00:35<00:00, 14.05it/s]\n",
      "  0%|▎                                                                                 | 2/500 [00:00<00:33, 14.97it/s]"
     ]
    },
    {
     "name": "stdout",
     "output_type": "stream",
     "text": [
      "epoch: 6, error 0.8580173278974282\n"
     ]
    },
    {
     "name": "stderr",
     "output_type": "stream",
     "text": [
      "100%|████████████████████████████████████████████████████████████████████████████████| 500/500 [00:38<00:00, 13.13it/s]\n",
      "  0%|▎                                                                                 | 2/500 [00:00<00:30, 16.30it/s]"
     ]
    },
    {
     "name": "stdout",
     "output_type": "stream",
     "text": [
      "epoch: 7, error 0.856669518183092\n"
     ]
    },
    {
     "name": "stderr",
     "output_type": "stream",
     "text": [
      "100%|████████████████████████████████████████████████████████████████████████████████| 500/500 [00:36<00:00, 13.61it/s]\n",
      "  0%|▎                                                                                 | 2/500 [00:00<00:34, 14.53it/s]"
     ]
    },
    {
     "name": "stdout",
     "output_type": "stream",
     "text": [
      "epoch: 8, error 0.856669518183092\n"
     ]
    },
    {
     "name": "stderr",
     "output_type": "stream",
     "text": [
      "100%|████████████████████████████████████████████████████████████████████████████████| 500/500 [00:36<00:00, 13.84it/s]\n",
      "  0%|▎                                                                                 | 2/500 [00:00<00:31, 16.04it/s]"
     ]
    },
    {
     "name": "stdout",
     "output_type": "stream",
     "text": [
      "epoch: 9, error 0.8566299248232491\n"
     ]
    },
    {
     "name": "stderr",
     "output_type": "stream",
     "text": [
      "100%|████████████████████████████████████████████████████████████████████████████████| 500/500 [00:35<00:00, 14.20it/s]\n",
      "  0%|▎                                                                                 | 2/500 [00:00<00:35, 14.02it/s]"
     ]
    },
    {
     "name": "stdout",
     "output_type": "stream",
     "text": [
      "epoch: 10, error 0.8566299248232491\n"
     ]
    },
    {
     "name": "stderr",
     "output_type": "stream",
     "text": [
      "100%|████████████████████████████████████████████████████████████████████████████████| 500/500 [00:40<00:00, 12.33it/s]\n",
      "  0%|▎                                                                                 | 2/500 [00:00<00:34, 14.43it/s]"
     ]
    },
    {
     "name": "stdout",
     "output_type": "stream",
     "text": [
      "epoch: 11, error 0.8553965588296483\n"
     ]
    },
    {
     "name": "stderr",
     "output_type": "stream",
     "text": [
      "100%|████████████████████████████████████████████████████████████████████████████████| 500/500 [00:35<00:00, 14.00it/s]\n",
      "  0%|▎                                                                                 | 2/500 [00:00<00:30, 16.57it/s]"
     ]
    },
    {
     "name": "stdout",
     "output_type": "stream",
     "text": [
      "epoch: 12, error 0.8553436596842414\n"
     ]
    },
    {
     "name": "stderr",
     "output_type": "stream",
     "text": [
      "100%|████████████████████████████████████████████████████████████████████████████████| 500/500 [00:33<00:00, 14.87it/s]\n",
      "  0%|▎                                                                                 | 2/500 [00:00<00:31, 15.67it/s]"
     ]
    },
    {
     "name": "stdout",
     "output_type": "stream",
     "text": [
      "epoch: 13, error 0.854126188535769\n"
     ]
    },
    {
     "name": "stderr",
     "output_type": "stream",
     "text": [
      "100%|████████████████████████████████████████████████████████████████████████████████| 500/500 [00:37<00:00, 13.46it/s]\n",
      "  0%|▎                                                                                 | 2/500 [00:00<00:41, 11.87it/s]"
     ]
    },
    {
     "name": "stdout",
     "output_type": "stream",
     "text": [
      "epoch: 14, error 0.854126188535769\n"
     ]
    },
    {
     "name": "stderr",
     "output_type": "stream",
     "text": [
      "100%|████████████████████████████████████████████████████████████████████████████████| 500/500 [00:41<00:00, 12.13it/s]\n",
      "  0%|▎                                                                                 | 2/500 [00:00<00:37, 13.11it/s]"
     ]
    },
    {
     "name": "stdout",
     "output_type": "stream",
     "text": [
      "epoch: 15, error 0.8521374784070821\n"
     ]
    },
    {
     "name": "stderr",
     "output_type": "stream",
     "text": [
      "100%|████████████████████████████████████████████████████████████████████████████████| 500/500 [00:33<00:00, 15.09it/s]\n",
      "  0%|▎                                                                                 | 2/500 [00:00<00:28, 17.59it/s]"
     ]
    },
    {
     "name": "stdout",
     "output_type": "stream",
     "text": [
      "epoch: 16, error 0.8520733316314981\n"
     ]
    },
    {
     "name": "stderr",
     "output_type": "stream",
     "text": [
      "100%|████████████████████████████████████████████████████████████████████████████████| 500/500 [00:34<00:00, 14.67it/s]\n",
      "  0%|▎                                                                                 | 2/500 [00:00<00:32, 15.31it/s]"
     ]
    },
    {
     "name": "stdout",
     "output_type": "stream",
     "text": [
      "epoch: 17, error 0.8513348696995757\n"
     ]
    },
    {
     "name": "stderr",
     "output_type": "stream",
     "text": [
      "100%|████████████████████████████████████████████████████████████████████████████████| 500/500 [00:33<00:00, 14.97it/s]\n",
      "  0%|▎                                                                                 | 2/500 [00:00<00:32, 15.31it/s]"
     ]
    },
    {
     "name": "stdout",
     "output_type": "stream",
     "text": [
      "epoch: 18, error 0.8492158050712005\n"
     ]
    },
    {
     "name": "stderr",
     "output_type": "stream",
     "text": [
      "100%|████████████████████████████████████████████████████████████████████████████████| 500/500 [00:32<00:00, 15.17it/s]\n",
      "  0%|▎                                                                                 | 2/500 [00:00<00:32, 15.31it/s]"
     ]
    },
    {
     "name": "stdout",
     "output_type": "stream",
     "text": [
      "epoch: 19, error 0.8492158050712005\n"
     ]
    },
    {
     "name": "stderr",
     "output_type": "stream",
     "text": [
      "100%|████████████████████████████████████████████████████████████████████████████████| 500/500 [00:34<00:00, 14.67it/s]\n",
      "  0%|▎                                                                                 | 2/500 [00:00<00:31, 15.79it/s]"
     ]
    },
    {
     "name": "stdout",
     "output_type": "stream",
     "text": [
      "epoch: 20, error 0.8492158050712005\n"
     ]
    },
    {
     "name": "stderr",
     "output_type": "stream",
     "text": [
      "100%|████████████████████████████████████████████████████████████████████████████████| 500/500 [00:35<00:00, 13.98it/s]\n",
      "  0%|▎                                                                                 | 2/500 [00:00<00:31, 15.92it/s]"
     ]
    },
    {
     "name": "stdout",
     "output_type": "stream",
     "text": [
      "epoch: 21, error 0.8488232146828115\n"
     ]
    },
    {
     "name": "stderr",
     "output_type": "stream",
     "text": [
      "100%|████████████████████████████████████████████████████████████████████████████████| 500/500 [00:39<00:00, 12.77it/s]\n",
      "  0%|▏                                                                                 | 1/500 [00:00<01:08,  7.32it/s]"
     ]
    },
    {
     "name": "stdout",
     "output_type": "stream",
     "text": [
      "epoch: 22, error 0.8485181486532501\n"
     ]
    },
    {
     "name": "stderr",
     "output_type": "stream",
     "text": [
      "100%|████████████████████████████████████████████████████████████████████████████████| 500/500 [01:03<00:00,  7.86it/s]\n",
      "  0%|▎                                                                                 | 2/500 [00:00<00:32, 15.31it/s]"
     ]
    },
    {
     "name": "stdout",
     "output_type": "stream",
     "text": [
      "epoch: 23, error 0.8480620516153596\n"
     ]
    },
    {
     "name": "stderr",
     "output_type": "stream",
     "text": [
      "100%|████████████████████████████████████████████████████████████████████████████████| 500/500 [00:37<00:00, 13.42it/s]\n",
      "  0%|▎                                                                                 | 2/500 [00:00<00:33, 14.85it/s]"
     ]
    },
    {
     "name": "stdout",
     "output_type": "stream",
     "text": [
      "epoch: 24, error 0.8480620516153596\n"
     ]
    },
    {
     "name": "stderr",
     "output_type": "stream",
     "text": [
      "100%|████████████████████████████████████████████████████████████████████████████████| 500/500 [00:35<00:00, 14.15it/s]\n",
      "  0%|▎                                                                                 | 2/500 [00:00<00:32, 15.19it/s]"
     ]
    },
    {
     "name": "stdout",
     "output_type": "stream",
     "text": [
      "epoch: 25, error 0.8480620516153596\n"
     ]
    },
    {
     "name": "stderr",
     "output_type": "stream",
     "text": [
      "100%|████████████████████████████████████████████████████████████████████████████████| 500/500 [00:32<00:00, 15.56it/s]\n",
      "  0%|▎                                                                                 | 2/500 [00:00<00:33, 15.08it/s]"
     ]
    },
    {
     "name": "stdout",
     "output_type": "stream",
     "text": [
      "epoch: 26, error 0.8480620516153596\n"
     ]
    },
    {
     "name": "stderr",
     "output_type": "stream",
     "text": [
      "100%|████████████████████████████████████████████████████████████████████████████████| 500/500 [00:38<00:00, 13.07it/s]\n",
      "  0%|▎                                                                                 | 2/500 [00:00<00:33, 15.08it/s]"
     ]
    },
    {
     "name": "stdout",
     "output_type": "stream",
     "text": [
      "epoch: 27, error 0.8480620516153596\n"
     ]
    },
    {
     "name": "stderr",
     "output_type": "stream",
     "text": [
      "100%|████████████████████████████████████████████████████████████████████████████████| 500/500 [00:33<00:00, 14.90it/s]\n",
      "  0%|▎                                                                                 | 2/500 [00:00<00:32, 15.55it/s]"
     ]
    },
    {
     "name": "stdout",
     "output_type": "stream",
     "text": [
      "epoch: 28, error 0.8480620516153596\n"
     ]
    },
    {
     "name": "stderr",
     "output_type": "stream",
     "text": [
      "100%|████████████████████████████████████████████████████████████████████████████████| 500/500 [00:34<00:00, 14.62it/s]\n"
     ]
    },
    {
     "name": "stdout",
     "output_type": "stream",
     "text": [
      "epoch: 29, error 0.8480620516153596\n"
     ]
    },
    {
     "data": {
      "text/plain": [
       "(610, 9724)"
      ]
     },
     "execution_count": 140,
     "metadata": {},
     "output_type": "execute_result"
    }
   ],
   "source": [
    "(gbest, pred_matrix,errors) = PSO(30,500,0.02,2,5,user_rating,latent_features=3)\n",
    "pred_matrix.shape\n"
   ]
  },
  {
   "cell_type": "code",
   "execution_count": 148,
   "metadata": {},
   "outputs": [
    {
     "data": {
      "image/png": "[encoded data removed]",
      "text/plain": [
       "<matplotlib.figure.Figure at 0x1fa0f8d9fd0>"
      ]
     },
     "metadata": {},
     "output_type": "display_data"
    }
   ],
   "source": [
    "plt.plot(errors)\n",
    "plt.show()"
   ]
  },
  {
   "cell_type": "code",
   "execution_count": 150,
   "metadata": {},
   "outputs": [
    {
     "name": "stdout",
     "output_type": "stream",
     "text": [
      "userDims:  (610, 3)\n",
      "movie_dims:  (9724, 3)\n"
     ]
    },
    {
     "name": "stderr",
     "output_type": "stream",
     "text": [
      "100%|████████████████████████████████████████████████████████████████████████████████| 500/500 [00:35<00:00, 14.13it/s]\n",
      "  0%|▎                                                                                 | 2/500 [00:00<00:33, 14.75it/s]"
     ]
    },
    {
     "name": "stdout",
     "output_type": "stream",
     "text": [
      "epoch: 0, error 0.8725596959655217\n"
     ]
    },
    {
     "name": "stderr",
     "output_type": "stream",
     "text": [
      "100%|████████████████████████████████████████████████████████████████████████████████| 500/500 [00:35<00:00, 14.06it/s]\n",
      "  0%|▎                                                                                 | 2/500 [00:00<00:32, 15.43it/s]"
     ]
    },
    {
     "name": "stdout",
     "output_type": "stream",
     "text": [
      "epoch: 1, error 0.8725596959655217\n"
     ]
    },
    {
     "name": "stderr",
     "output_type": "stream",
     "text": [
      "100%|████████████████████████████████████████████████████████████████████████████████| 500/500 [00:35<00:00, 14.10it/s]\n",
      "  0%|▎                                                                                 | 2/500 [00:00<00:37, 13.37it/s]"
     ]
    },
    {
     "name": "stdout",
     "output_type": "stream",
     "text": [
      "epoch: 2, error 0.8212538528269141\n"
     ]
    },
    {
     "name": "stderr",
     "output_type": "stream",
     "text": [
      "100%|████████████████████████████████████████████████████████████████████████████████| 500/500 [00:34<00:00, 14.54it/s]\n",
      "  0%|▎                                                                                 | 2/500 [00:00<00:32, 15.19it/s]"
     ]
    },
    {
     "name": "stdout",
     "output_type": "stream",
     "text": [
      "epoch: 3, error 0.7956222929119555\n"
     ]
    },
    {
     "name": "stderr",
     "output_type": "stream",
     "text": [
      "100%|████████████████████████████████████████████████████████████████████████████████| 500/500 [00:35<00:00, 14.07it/s]\n",
      "  0%|▎                                                                                 | 2/500 [00:00<00:35, 14.12it/s]"
     ]
    },
    {
     "name": "stdout",
     "output_type": "stream",
     "text": [
      "epoch: 4, error 0.7948748478735672\n"
     ]
    },
    {
     "name": "stderr",
     "output_type": "stream",
     "text": [
      "100%|████████████████████████████████████████████████████████████████████████████████| 500/500 [00:35<00:00, 14.10it/s]\n",
      "  0%|▎                                                                                 | 2/500 [00:00<00:33, 14.75it/s]"
     ]
    },
    {
     "name": "stdout",
     "output_type": "stream",
     "text": [
      "epoch: 5, error 0.7921963258304182\n"
     ]
    },
    {
     "name": "stderr",
     "output_type": "stream",
     "text": [
      "100%|████████████████████████████████████████████████████████████████████████████████| 500/500 [00:36<00:00, 13.87it/s]\n",
      "  0%|▎                                                                                 | 2/500 [00:00<00:32, 15.55it/s]"
     ]
    },
    {
     "name": "stdout",
     "output_type": "stream",
     "text": [
      "epoch: 6, error 0.7876030116286529\n"
     ]
    },
    {
     "name": "stderr",
     "output_type": "stream",
     "text": [
      "100%|████████████████████████████████████████████████████████████████████████████████| 500/500 [00:31<00:00, 15.86it/s]\n",
      "  0%|▎                                                                                 | 2/500 [00:00<00:30, 16.17it/s]"
     ]
    },
    {
     "name": "stdout",
     "output_type": "stream",
     "text": [
      "epoch: 7, error 0.7874874374879208\n"
     ]
    },
    {
     "name": "stderr",
     "output_type": "stream",
     "text": [
      "100%|████████████████████████████████████████████████████████████████████████████████| 500/500 [00:31<00:00, 15.83it/s]\n",
      "  0%|▎                                                                                 | 2/500 [00:00<00:28, 17.29it/s]"
     ]
    },
    {
     "name": "stdout",
     "output_type": "stream",
     "text": [
      "epoch: 8, error 0.7784469764648736\n"
     ]
    },
    {
     "name": "stderr",
     "output_type": "stream",
     "text": [
      "100%|████████████████████████████████████████████████████████████████████████████████| 500/500 [00:31<00:00, 15.93it/s]\n",
      "  0%|▎                                                                                 | 2/500 [00:00<00:26, 18.57it/s]"
     ]
    },
    {
     "name": "stdout",
     "output_type": "stream",
     "text": [
      "epoch: 9, error 0.7170058252038026\n"
     ]
    },
    {
     "name": "stderr",
     "output_type": "stream",
     "text": [
      "100%|████████████████████████████████████████████████████████████████████████████████| 500/500 [00:31<00:00, 15.82it/s]\n",
      "  0%|▎                                                                                 | 2/500 [00:00<00:27, 17.90it/s]"
     ]
    },
    {
     "name": "stdout",
     "output_type": "stream",
     "text": [
      "epoch: 10, error 0.6987970621601216\n"
     ]
    },
    {
     "name": "stderr",
     "output_type": "stream",
     "text": [
      "100%|████████████████████████████████████████████████████████████████████████████████| 500/500 [00:32<00:00, 15.58it/s]\n",
      "  0%|▎                                                                                 | 2/500 [00:00<00:29, 16.85it/s]"
     ]
    },
    {
     "name": "stdout",
     "output_type": "stream",
     "text": [
      "epoch: 11, error 0.6949269377721872\n"
     ]
    },
    {
     "name": "stderr",
     "output_type": "stream",
     "text": [
      "100%|████████████████████████████████████████████████████████████████████████████████| 500/500 [00:31<00:00, 15.67it/s]\n",
      "  0%|▎                                                                                 | 2/500 [00:00<00:34, 14.53it/s]"
     ]
    },
    {
     "name": "stdout",
     "output_type": "stream",
     "text": [
      "epoch: 12, error 0.6873339925349456\n"
     ]
    },
    {
     "name": "stderr",
     "output_type": "stream",
     "text": [
      "100%|████████████████████████████████████████████████████████████████████████████████| 500/500 [00:35<00:00, 14.25it/s]\n",
      "  0%|▎                                                                                 | 2/500 [00:00<00:31, 15.79it/s]"
     ]
    },
    {
     "name": "stdout",
     "output_type": "stream",
     "text": [
      "epoch: 13, error 0.6822535367194565\n"
     ]
    },
    {
     "name": "stderr",
     "output_type": "stream",
     "text": [
      "100%|████████████████████████████████████████████████████████████████████████████████| 500/500 [00:35<00:00, 14.23it/s]\n",
      "  0%|▎                                                                                 | 2/500 [00:00<00:32, 15.55it/s]"
     ]
    },
    {
     "name": "stdout",
     "output_type": "stream",
     "text": [
      "epoch: 14, error 0.6757490592478447\n"
     ]
    },
    {
     "name": "stderr",
     "output_type": "stream",
     "text": [
      "100%|████████████████████████████████████████████████████████████████████████████████| 500/500 [00:35<00:00, 14.15it/s]\n",
      "  0%|▎                                                                                 | 2/500 [00:00<00:30, 16.17it/s]"
     ]
    },
    {
     "name": "stdout",
     "output_type": "stream",
     "text": [
      "epoch: 15, error 0.6744024244441738\n"
     ]
    },
    {
     "name": "stderr",
     "output_type": "stream",
     "text": [
      "100%|████████████████████████████████████████████████████████████████████████████████| 500/500 [00:34<00:00, 14.58it/s]\n",
      "  0%|▎                                                                                 | 2/500 [00:00<00:30, 16.30it/s]"
     ]
    },
    {
     "name": "stdout",
     "output_type": "stream",
     "text": [
      "epoch: 16, error 0.674360612767305\n"
     ]
    },
    {
     "name": "stderr",
     "output_type": "stream",
     "text": [
      "100%|████████████████████████████████████████████████████████████████████████████████| 500/500 [00:34<00:00, 14.64it/s]\n",
      "  0%|▎                                                                                 | 2/500 [00:00<00:34, 14.43it/s]"
     ]
    },
    {
     "name": "stdout",
     "output_type": "stream",
     "text": [
      "epoch: 17, error 0.6743585861267584\n"
     ]
    },
    {
     "name": "stderr",
     "output_type": "stream",
     "text": [
      "100%|████████████████████████████████████████████████████████████████████████████████| 500/500 [00:33<00:00, 14.84it/s]\n",
      "  0%|▎                                                                                 | 2/500 [00:00<00:28, 17.59it/s]"
     ]
    },
    {
     "name": "stdout",
     "output_type": "stream",
     "text": [
      "epoch: 18, error 0.6743584849546062\n"
     ]
    },
    {
     "name": "stderr",
     "output_type": "stream",
     "text": [
      "100%|████████████████████████████████████████████████████████████████████████████████| 500/500 [00:33<00:00, 14.85it/s]\n",
      "  0%|▎                                                                                 | 2/500 [00:00<00:33, 14.97it/s]"
     ]
    },
    {
     "name": "stdout",
     "output_type": "stream",
     "text": [
      "epoch: 19, error 0.6743584798963983\n"
     ]
    },
    {
     "name": "stderr",
     "output_type": "stream",
     "text": [
      "100%|████████████████████████████████████████████████████████████████████████████████| 500/500 [00:34<00:00, 14.64it/s]\n",
      "  0%|▎                                                                                 | 2/500 [00:00<00:36, 13.64it/s]"
     ]
    },
    {
     "name": "stdout",
     "output_type": "stream",
     "text": [
      "epoch: 20, error 0.6743584796434889\n"
     ]
    },
    {
     "name": "stderr",
     "output_type": "stream",
     "text": [
      "100%|████████████████████████████████████████████████████████████████████████████████| 500/500 [00:33<00:00, 14.76it/s]\n",
      "  0%|▎                                                                                 | 2/500 [00:00<00:33, 15.08it/s]"
     ]
    },
    {
     "name": "stdout",
     "output_type": "stream",
     "text": [
      "epoch: 21, error 0.6740547951946265\n"
     ]
    },
    {
     "name": "stderr",
     "output_type": "stream",
     "text": [
      "100%|████████████████████████████████████████████████████████████████████████████████| 500/500 [00:34<00:00, 14.30it/s]\n",
      "  0%|▎                                                                                 | 2/500 [00:00<00:31, 15.92it/s]"
     ]
    },
    {
     "name": "stdout",
     "output_type": "stream",
     "text": [
      "epoch: 22, error 0.6729288631092757\n"
     ]
    },
    {
     "name": "stderr",
     "output_type": "stream",
     "text": [
      "100%|████████████████████████████████████████████████████████████████████████████████| 500/500 [00:33<00:00, 14.78it/s]\n",
      "  0%|▎                                                                                 | 2/500 [00:00<00:31, 16.04it/s]"
     ]
    },
    {
     "name": "stdout",
     "output_type": "stream",
     "text": [
      "epoch: 23, error 0.6727307884191603\n"
     ]
    },
    {
     "name": "stderr",
     "output_type": "stream",
     "text": [
      "100%|████████████████████████████████████████████████████████████████████████████████| 500/500 [00:34<00:00, 14.61it/s]\n"
     ]
    },
    {
     "name": "stdout",
     "output_type": "stream",
     "text": [
      "epoch: 24, error 0.6727307884191603\n"
     ]
    },
    {
     "data": {
      "text/plain": [
       "(610, 9724)"
      ]
     },
     "execution_count": 150,
     "metadata": {},
     "output_type": "execute_result"
    }
   ],
   "source": [
    "(gbest, pred_matrix,errors) = PSO(25,500,0.05,2,5,user_rating,latent_features=3)\n",
    "pred_matrix.shape"
   ]
  },
  {
   "cell_type": "code",
   "execution_count": 151,
   "metadata": {},
   "outputs": [
    {
     "data": {
      "image/png": "[encoded data removed]",
      "text/plain": [
       "<matplotlib.figure.Figure at 0x1fa11946390>"
      ]
     },
     "metadata": {},
     "output_type": "display_data"
    }
   ],
   "source": [
    "plt.plot(errors)\n",
    "plt.show()"
   ]
  },
  {
   "cell_type": "code",
   "execution_count": 152,
   "metadata": {},
   "outputs": [
    {
     "name": "stdout",
     "output_type": "stream",
     "text": [
      "userDims:  (610, 3)\n",
      "movie_dims:  (9724, 3)\n"
     ]
    },
    {
     "name": "stderr",
     "output_type": "stream",
     "text": [
      "100%|████████████████████████████████████████████████████████████████████████████████| 500/500 [00:33<00:00, 14.87it/s]\n",
      "  0%|▎                                                                                 | 2/500 [00:00<00:30, 16.17it/s]"
     ]
    },
    {
     "name": "stdout",
     "output_type": "stream",
     "text": [
      "epoch: 0, error 0.8755102233779393\n"
     ]
    },
    {
     "name": "stderr",
     "output_type": "stream",
     "text": [
      "100%|████████████████████████████████████████████████████████████████████████████████| 500/500 [00:34<00:00, 14.58it/s]\n",
      "  0%|▎                                                                                 | 2/500 [00:00<00:34, 14.53it/s]"
     ]
    },
    {
     "name": "stdout",
     "output_type": "stream",
     "text": [
      "epoch: 1, error 0.8678186930529238\n"
     ]
    },
    {
     "name": "stderr",
     "output_type": "stream",
     "text": [
      "100%|████████████████████████████████████████████████████████████████████████████████| 500/500 [00:34<00:00, 14.55it/s]\n",
      "  0%|▎                                                                                 | 2/500 [00:00<00:29, 16.99it/s]"
     ]
    },
    {
     "name": "stdout",
     "output_type": "stream",
     "text": [
      "epoch: 2, error 0.8678186930529238\n"
     ]
    },
    {
     "name": "stderr",
     "output_type": "stream",
     "text": [
      "100%|████████████████████████████████████████████████████████████████████████████████| 500/500 [00:34<00:00, 14.59it/s]\n",
      "  0%|▎                                                                                 | 2/500 [00:00<00:33, 15.08it/s]"
     ]
    },
    {
     "name": "stdout",
     "output_type": "stream",
     "text": [
      "epoch: 3, error 0.8661578341242397\n"
     ]
    },
    {
     "name": "stderr",
     "output_type": "stream",
     "text": [
      "100%|████████████████████████████████████████████████████████████████████████████████| 500/500 [00:33<00:00, 14.92it/s]\n",
      "  0%|▎                                                                                 | 2/500 [00:00<00:32, 15.55it/s]"
     ]
    },
    {
     "name": "stdout",
     "output_type": "stream",
     "text": [
      "epoch: 4, error 0.855817957337972\n"
     ]
    },
    {
     "name": "stderr",
     "output_type": "stream",
     "text": [
      "100%|████████████████████████████████████████████████████████████████████████████████| 500/500 [00:34<00:00, 14.54it/s]\n",
      "  0%|▎                                                                                 | 2/500 [00:00<00:33, 14.85it/s]"
     ]
    },
    {
     "name": "stdout",
     "output_type": "stream",
     "text": [
      "epoch: 5, error 0.8543685195418742\n"
     ]
    },
    {
     "name": "stderr",
     "output_type": "stream",
     "text": [
      "100%|████████████████████████████████████████████████████████████████████████████████| 500/500 [00:35<00:00, 14.09it/s]\n",
      "  0%|▎                                                                                 | 2/500 [00:00<00:35, 14.12it/s]"
     ]
    },
    {
     "name": "stdout",
     "output_type": "stream",
     "text": [
      "epoch: 6, error 0.8535505054161476\n"
     ]
    },
    {
     "name": "stderr",
     "output_type": "stream",
     "text": [
      "100%|████████████████████████████████████████████████████████████████████████████████| 500/500 [00:35<00:00, 14.27it/s]\n",
      "  0%|▎                                                                                 | 2/500 [00:00<00:37, 13.37it/s]"
     ]
    },
    {
     "name": "stdout",
     "output_type": "stream",
     "text": [
      "epoch: 7, error 0.8524355797285589\n"
     ]
    },
    {
     "name": "stderr",
     "output_type": "stream",
     "text": [
      "100%|████████████████████████████████████████████████████████████████████████████████| 500/500 [00:34<00:00, 14.37it/s]\n",
      "  0%|▎                                                                                 | 2/500 [00:00<00:35, 14.02it/s]"
     ]
    },
    {
     "name": "stdout",
     "output_type": "stream",
     "text": [
      "epoch: 8, error 0.8524355797285589\n"
     ]
    },
    {
     "name": "stderr",
     "output_type": "stream",
     "text": [
      "100%|████████████████████████████████████████████████████████████████████████████████| 500/500 [00:35<00:00, 14.27it/s]\n",
      "  0%|▎                                                                                 | 2/500 [00:00<00:35, 14.22it/s]"
     ]
    },
    {
     "name": "stdout",
     "output_type": "stream",
     "text": [
      "epoch: 9, error 0.8524355797285589\n"
     ]
    },
    {
     "name": "stderr",
     "output_type": "stream",
     "text": [
      "100%|████████████████████████████████████████████████████████████████████████████████| 500/500 [00:35<00:00, 14.19it/s]\n",
      "  0%|▎                                                                                 | 2/500 [00:00<00:34, 14.43it/s]"
     ]
    },
    {
     "name": "stdout",
     "output_type": "stream",
     "text": [
      "epoch: 10, error 0.8524355797285589\n"
     ]
    },
    {
     "name": "stderr",
     "output_type": "stream",
     "text": [
      "100%|████████████████████████████████████████████████████████████████████████████████| 500/500 [00:34<00:00, 14.40it/s]\n",
      "  0%|▎                                                                                 | 2/500 [00:00<00:35, 14.12it/s]"
     ]
    },
    {
     "name": "stdout",
     "output_type": "stream",
     "text": [
      "epoch: 11, error 0.8524355797285589\n"
     ]
    },
    {
     "name": "stderr",
     "output_type": "stream",
     "text": [
      "100%|████████████████████████████████████████████████████████████████████████████████| 500/500 [00:34<00:00, 14.53it/s]\n",
      "  0%|▎                                                                                 | 2/500 [00:00<00:34, 14.64it/s]"
     ]
    },
    {
     "name": "stdout",
     "output_type": "stream",
     "text": [
      "epoch: 12, error 0.8524355797285589\n"
     ]
    },
    {
     "name": "stderr",
     "output_type": "stream",
     "text": [
      "100%|████████████████████████████████████████████████████████████████████████████████| 500/500 [00:35<00:00, 14.25it/s]\n",
      "  0%|▎                                                                                 | 2/500 [00:00<00:32, 15.55it/s]"
     ]
    },
    {
     "name": "stdout",
     "output_type": "stream",
     "text": [
      "epoch: 13, error 0.8524355797285589\n"
     ]
    },
    {
     "name": "stderr",
     "output_type": "stream",
     "text": [
      "100%|████████████████████████████████████████████████████████████████████████████████| 500/500 [00:34<00:00, 14.36it/s]\n",
      "  0%|▎                                                                                 | 2/500 [00:00<00:31, 15.79it/s]"
     ]
    },
    {
     "name": "stdout",
     "output_type": "stream",
     "text": [
      "epoch: 14, error 0.8524355797285589\n"
     ]
    },
    {
     "name": "stderr",
     "output_type": "stream",
     "text": [
      "100%|████████████████████████████████████████████████████████████████████████████████| 500/500 [00:35<00:00, 14.19it/s]\n",
      "  0%|▎                                                                                 | 2/500 [00:00<00:34, 14.64it/s]"
     ]
    },
    {
     "name": "stdout",
     "output_type": "stream",
     "text": [
      "epoch: 15, error 0.8524355797285589\n"
     ]
    },
    {
     "name": "stderr",
     "output_type": "stream",
     "text": [
      "100%|████████████████████████████████████████████████████████████████████████████████| 500/500 [00:34<00:00, 14.52it/s]\n",
      "  0%|▎                                                                                 | 2/500 [00:00<00:31, 15.79it/s]"
     ]
    },
    {
     "name": "stdout",
     "output_type": "stream",
     "text": [
      "epoch: 16, error 0.8524355797285589\n"
     ]
    },
    {
     "name": "stderr",
     "output_type": "stream",
     "text": [
      "100%|████████████████████████████████████████████████████████████████████████████████| 500/500 [00:33<00:00, 14.79it/s]\n",
      "  0%|▎                                                                                 | 2/500 [00:00<00:34, 14.64it/s]"
     ]
    },
    {
     "name": "stdout",
     "output_type": "stream",
     "text": [
      "epoch: 17, error 0.8524355797285589\n"
     ]
    },
    {
     "name": "stderr",
     "output_type": "stream",
     "text": [
      "100%|████████████████████████████████████████████████████████████████████████████████| 500/500 [00:33<00:00, 14.86it/s]\n",
      "  0%|▎                                                                                 | 2/500 [00:00<00:31, 15.67it/s]"
     ]
    },
    {
     "name": "stdout",
     "output_type": "stream",
     "text": [
      "epoch: 18, error 0.8524355797285589\n"
     ]
    },
    {
     "name": "stderr",
     "output_type": "stream",
     "text": [
      "100%|████████████████████████████████████████████████████████████████████████████████| 500/500 [00:33<00:00, 14.98it/s]\n",
      "  0%|▎                                                                                 | 2/500 [00:00<00:31, 15.67it/s]"
     ]
    },
    {
     "name": "stdout",
     "output_type": "stream",
     "text": [
      "epoch: 19, error 0.8524355797285589\n"
     ]
    },
    {
     "name": "stderr",
     "output_type": "stream",
     "text": [
      "100%|████████████████████████████████████████████████████████████████████████████████| 500/500 [00:33<00:00, 14.88it/s]\n",
      "  0%|▎                                                                                 | 2/500 [00:00<00:32, 15.31it/s]"
     ]
    },
    {
     "name": "stdout",
     "output_type": "stream",
     "text": [
      "epoch: 20, error 0.8524355797285589\n"
     ]
    },
    {
     "name": "stderr",
     "output_type": "stream",
     "text": [
      "100%|████████████████████████████████████████████████████████████████████████████████| 500/500 [00:33<00:00, 14.99it/s]\n",
      "  0%|▎                                                                                 | 2/500 [00:00<00:30, 16.17it/s]"
     ]
    },
    {
     "name": "stdout",
     "output_type": "stream",
     "text": [
      "epoch: 21, error 0.8524355797285589\n"
     ]
    },
    {
     "name": "stderr",
     "output_type": "stream",
     "text": [
      "100%|████████████████████████████████████████████████████████████████████████████████| 500/500 [00:33<00:00, 14.83it/s]\n",
      "  0%|▎                                                                                 | 2/500 [00:00<00:34, 14.43it/s]"
     ]
    },
    {
     "name": "stdout",
     "output_type": "stream",
     "text": [
      "epoch: 22, error 0.8524355797285589\n"
     ]
    },
    {
     "name": "stderr",
     "output_type": "stream",
     "text": [
      "100%|████████████████████████████████████████████████████████████████████████████████| 500/500 [00:33<00:00, 14.87it/s]\n",
      "  0%|▎                                                                                 | 2/500 [00:00<00:29, 16.99it/s]"
     ]
    },
    {
     "name": "stdout",
     "output_type": "stream",
     "text": [
      "epoch: 23, error 0.8524355797285589\n"
     ]
    },
    {
     "name": "stderr",
     "output_type": "stream",
     "text": [
      "100%|████████████████████████████████████████████████████████████████████████████████| 500/500 [00:33<00:00, 14.86it/s]\n"
     ]
    },
    {
     "name": "stdout",
     "output_type": "stream",
     "text": [
      "epoch: 24, error 0.8524355797285589\n"
     ]
    },
    {
     "data": {
      "text/plain": [
       "(610, 9724)"
      ]
     },
     "execution_count": 152,
     "metadata": {},
     "output_type": "execute_result"
    }
   ],
   "source": [
    "(gbest, pred_matrix,errors_) = PSO(25,500,0.02,2,7,user_rating,latent_features=3)\n",
    "pred_matrix.shape"
   ]
  },
  {
   "cell_type": "code",
   "execution_count": 153,
   "metadata": {},
   "outputs": [
    {
     "data": {
      "image/png": "[encoded data removed]",
      "text/plain": [
       "<matplotlib.figure.Figure at 0x1fa1738dba8>"
      ]
     },
     "metadata": {},
     "output_type": "display_data"
    }
   ],
   "source": [
    "plt.plot(errors)\n",
    "plt.show()"
   ]
  },
  {
   "cell_type": "code",
   "execution_count": 154,
   "metadata": {},
   "outputs": [
    {
     "name": "stdout",
     "output_type": "stream",
     "text": [
      "userDims:  (610, 3)\n",
      "movie_dims:  (9724, 3)\n"
     ]
    },
    {
     "name": "stderr",
     "output_type": "stream",
     "text": [
      "100%|████████████████████████████████████████████████████████████████████████████████| 500/500 [00:33<00:00, 14.97it/s]\n",
      "  0%|▎                                                                                 | 2/500 [00:00<00:31, 15.67it/s]"
     ]
    },
    {
     "name": "stdout",
     "output_type": "stream",
     "text": [
      "epoch: 0, error 0.8758566569984028\n"
     ]
    },
    {
     "name": "stderr",
     "output_type": "stream",
     "text": [
      "100%|████████████████████████████████████████████████████████████████████████████████| 500/500 [00:33<00:00, 14.90it/s]\n",
      "  0%|▎                                                                                 | 2/500 [00:00<00:32, 15.43it/s]"
     ]
    },
    {
     "name": "stdout",
     "output_type": "stream",
     "text": [
      "epoch: 1, error 0.8758566569984028\n"
     ]
    },
    {
     "name": "stderr",
     "output_type": "stream",
     "text": [
      "100%|████████████████████████████████████████████████████████████████████████████████| 500/500 [00:33<00:00, 14.88it/s]\n",
      "  0%|▎                                                                                 | 2/500 [00:00<00:34, 14.64it/s]"
     ]
    },
    {
     "name": "stdout",
     "output_type": "stream",
     "text": [
      "epoch: 2, error 0.8346776990788598\n"
     ]
    },
    {
     "name": "stderr",
     "output_type": "stream",
     "text": [
      "100%|████████████████████████████████████████████████████████████████████████████████| 500/500 [00:33<00:00, 15.05it/s]\n",
      "  0%|▎                                                                                 | 2/500 [00:00<00:32, 15.31it/s]"
     ]
    },
    {
     "name": "stdout",
     "output_type": "stream",
     "text": [
      "epoch: 3, error 0.8043148688925088\n"
     ]
    },
    {
     "name": "stderr",
     "output_type": "stream",
     "text": [
      "100%|████████████████████████████████████████████████████████████████████████████████| 500/500 [00:33<00:00, 14.92it/s]\n",
      "  0%|▎                                                                                 | 2/500 [00:00<00:32, 15.55it/s]"
     ]
    },
    {
     "name": "stdout",
     "output_type": "stream",
     "text": [
      "epoch: 4, error 0.7758298769318597\n"
     ]
    },
    {
     "name": "stderr",
     "output_type": "stream",
     "text": [
      "100%|████████████████████████████████████████████████████████████████████████████████| 500/500 [00:33<00:00, 14.82it/s]\n",
      "  0%|▎                                                                                 | 2/500 [00:00<00:29, 16.85it/s]"
     ]
    },
    {
     "name": "stdout",
     "output_type": "stream",
     "text": [
      "epoch: 5, error 0.7617649799640289\n"
     ]
    },
    {
     "name": "stderr",
     "output_type": "stream",
     "text": [
      "100%|████████████████████████████████████████████████████████████████████████████████| 500/500 [00:33<00:00, 14.81it/s]\n",
      "  0%|▎                                                                                 | 2/500 [00:00<00:31, 15.92it/s]"
     ]
    },
    {
     "name": "stdout",
     "output_type": "stream",
     "text": [
      "epoch: 6, error 0.7423233176886045\n"
     ]
    },
    {
     "name": "stderr",
     "output_type": "stream",
     "text": [
      "100%|████████████████████████████████████████████████████████████████████████████████| 500/500 [00:33<00:00, 15.06it/s]\n",
      "  0%|▎                                                                                 | 2/500 [00:00<00:33, 14.75it/s]"
     ]
    },
    {
     "name": "stdout",
     "output_type": "stream",
     "text": [
      "epoch: 7, error 0.720713225223217\n"
     ]
    },
    {
     "name": "stderr",
     "output_type": "stream",
     "text": [
      "100%|████████████████████████████████████████████████████████████████████████████████| 500/500 [00:33<00:00, 15.02it/s]\n",
      "  0%|▎                                                                                 | 2/500 [00:00<00:34, 14.43it/s]"
     ]
    },
    {
     "name": "stdout",
     "output_type": "stream",
     "text": [
      "epoch: 8, error 0.6867354492616404\n"
     ]
    },
    {
     "name": "stderr",
     "output_type": "stream",
     "text": [
      "100%|████████████████████████████████████████████████████████████████████████████████| 500/500 [00:33<00:00, 14.89it/s]\n",
      "  0%|▎                                                                                 | 2/500 [00:00<00:34, 14.64it/s]"
     ]
    },
    {
     "name": "stdout",
     "output_type": "stream",
     "text": [
      "epoch: 9, error 0.6633321120566094\n"
     ]
    },
    {
     "name": "stderr",
     "output_type": "stream",
     "text": [
      "100%|████████████████████████████████████████████████████████████████████████████████| 500/500 [00:33<00:00, 14.90it/s]\n",
      "  0%|▎                                                                                 | 2/500 [00:00<00:29, 16.85it/s]"
     ]
    },
    {
     "name": "stdout",
     "output_type": "stream",
     "text": [
      "epoch: 10, error 0.662245427752894\n"
     ]
    },
    {
     "name": "stderr",
     "output_type": "stream",
     "text": [
      "100%|████████████████████████████████████████████████████████████████████████████████| 500/500 [00:33<00:00, 14.95it/s]\n",
      "  0%|▎                                                                                 | 2/500 [00:00<00:30, 16.30it/s]"
     ]
    },
    {
     "name": "stdout",
     "output_type": "stream",
     "text": [
      "epoch: 11, error 0.6606771791019919\n"
     ]
    },
    {
     "name": "stderr",
     "output_type": "stream",
     "text": [
      "100%|████████████████████████████████████████████████████████████████████████████████| 500/500 [00:33<00:00, 15.01it/s]\n",
      "  0%|▎                                                                                 | 2/500 [00:00<00:31, 15.67it/s]"
     ]
    },
    {
     "name": "stdout",
     "output_type": "stream",
     "text": [
      "epoch: 12, error 0.6601223111386916\n"
     ]
    },
    {
     "name": "stderr",
     "output_type": "stream",
     "text": [
      "100%|████████████████████████████████████████████████████████████████████████████████| 500/500 [00:33<00:00, 14.86it/s]\n",
      "  0%|▎                                                                                 | 2/500 [00:00<00:33, 14.85it/s]"
     ]
    },
    {
     "name": "stdout",
     "output_type": "stream",
     "text": [
      "epoch: 13, error 0.6597299246629813\n"
     ]
    },
    {
     "name": "stderr",
     "output_type": "stream",
     "text": [
      "100%|████████████████████████████████████████████████████████████████████████████████| 500/500 [00:33<00:00, 14.87it/s]\n",
      "  0%|▎                                                                                 | 2/500 [00:00<00:32, 15.31it/s]"
     ]
    },
    {
     "name": "stdout",
     "output_type": "stream",
     "text": [
      "epoch: 14, error 0.6593099164613044\n"
     ]
    },
    {
     "name": "stderr",
     "output_type": "stream",
     "text": [
      "100%|████████████████████████████████████████████████████████████████████████████████| 500/500 [00:33<00:00, 14.96it/s]\n",
      "  0%|▎                                                                                 | 2/500 [00:00<00:32, 15.19it/s]"
     ]
    },
    {
     "name": "stdout",
     "output_type": "stream",
     "text": [
      "epoch: 15, error 0.6587060122555652\n"
     ]
    },
    {
     "name": "stderr",
     "output_type": "stream",
     "text": [
      "100%|████████████████████████████████████████████████████████████████████████████████| 500/500 [00:33<00:00, 14.89it/s]\n",
      "  0%|▎                                                                                 | 2/500 [00:00<00:40, 12.30it/s]"
     ]
    },
    {
     "name": "stdout",
     "output_type": "stream",
     "text": [
      "epoch: 16, error 0.6576754368328738\n"
     ]
    },
    {
     "name": "stderr",
     "output_type": "stream",
     "text": [
      "100%|████████████████████████████████████████████████████████████████████████████████| 500/500 [00:33<00:00, 14.74it/s]\n",
      "  0%|▎                                                                                 | 2/500 [00:00<00:35, 14.12it/s]"
     ]
    },
    {
     "name": "stdout",
     "output_type": "stream",
     "text": [
      "epoch: 17, error 0.6566273943750397\n"
     ]
    },
    {
     "name": "stderr",
     "output_type": "stream",
     "text": [
      "100%|████████████████████████████████████████████████████████████████████████████████| 500/500 [00:33<00:00, 14.90it/s]\n",
      "  0%|▎                                                                                 | 2/500 [00:00<00:33, 15.08it/s]"
     ]
    },
    {
     "name": "stdout",
     "output_type": "stream",
     "text": [
      "epoch: 18, error 0.6558692233398798\n"
     ]
    },
    {
     "name": "stderr",
     "output_type": "stream",
     "text": [
      "100%|████████████████████████████████████████████████████████████████████████████████| 500/500 [00:33<00:00, 14.99it/s]\n",
      "  0%|▎                                                                                 | 2/500 [00:00<00:34, 14.64it/s]"
     ]
    },
    {
     "name": "stdout",
     "output_type": "stream",
     "text": [
      "epoch: 19, error 0.6548127060749587\n"
     ]
    },
    {
     "name": "stderr",
     "output_type": "stream",
     "text": [
      "100%|████████████████████████████████████████████████████████████████████████████████| 500/500 [00:33<00:00, 14.84it/s]\n",
      "  0%|▎                                                                                 | 2/500 [00:00<00:33, 14.85it/s]"
     ]
    },
    {
     "name": "stdout",
     "output_type": "stream",
     "text": [
      "epoch: 20, error 0.6540988237355463\n"
     ]
    },
    {
     "name": "stderr",
     "output_type": "stream",
     "text": [
      "100%|████████████████████████████████████████████████████████████████████████████████| 500/500 [00:38<00:00, 12.95it/s]\n",
      "  0%|▎                                                                                 | 2/500 [00:00<00:31, 15.67it/s]"
     ]
    },
    {
     "name": "stdout",
     "output_type": "stream",
     "text": [
      "epoch: 21, error 0.65365810913361\n"
     ]
    },
    {
     "name": "stderr",
     "output_type": "stream",
     "text": [
      "100%|████████████████████████████████████████████████████████████████████████████████| 500/500 [00:37<00:00, 13.37it/s]\n",
      "  0%|▎                                                                                 | 2/500 [00:00<00:35, 14.02it/s]"
     ]
    },
    {
     "name": "stdout",
     "output_type": "stream",
     "text": [
      "epoch: 22, error 0.653576268677987\n"
     ]
    },
    {
     "name": "stderr",
     "output_type": "stream",
     "text": [
      "100%|████████████████████████████████████████████████████████████████████████████████| 500/500 [01:08<00:00,  7.33it/s]\n",
      "  0%|▎                                                                                 | 2/500 [00:00<00:33, 14.75it/s]"
     ]
    },
    {
     "name": "stdout",
     "output_type": "stream",
     "text": [
      "epoch: 23, error 0.6535319876938727\n"
     ]
    },
    {
     "name": "stderr",
     "output_type": "stream",
     "text": [
      "100%|████████████████████████████████████████████████████████████████████████████████| 500/500 [00:36<00:00, 13.79it/s]\n"
     ]
    },
    {
     "name": "stdout",
     "output_type": "stream",
     "text": [
      "epoch: 24, error 0.653520595604674\n"
     ]
    },
    {
     "data": {
      "text/plain": [
       "(610, 9724)"
      ]
     },
     "execution_count": 154,
     "metadata": {},
     "output_type": "execute_result"
    }
   ],
   "source": [
    "(gbest, pred_matrix,errors) = PSO(25,500,0.05,2,2,user_rating,latent_features=3)\n",
    "pred_matrix.shape"
   ]
  },
  {
   "cell_type": "code",
   "execution_count": 155,
   "metadata": {},
   "outputs": [
    {
     "data": {
      "image/png": "[encoded data removed]",
      "text/plain": [
       "<matplotlib.figure.Figure at 0x1fa7bfc50f0>"
      ]
     },
     "metadata": {},
     "output_type": "display_data"
    }
   ],
   "source": [
    "plt.plot(errors)\n",
    "plt.show()"
   ]
  },
  {
   "cell_type": "code",
   "execution_count": 157,
   "metadata": {},
   "outputs": [
    {
     "data": {
      "text/plain": [
       "(610, 9724)"
      ]
     },
     "execution_count": 157,
     "metadata": {},
     "output_type": "execute_result"
    }
   ],
   "source": [
    "pred_matrix"
   ]
  }
 ],
 "metadata": {
  "kernelspec": {
   "display_name": "Python 3",
   "language": "python",
   "name": "python3"
  },
  "language_info": {
   "codemirror_mode": {
    "name": "ipython",
    "version": 3
   },
   "file_extension": ".py",
   "mimetype": "text/x-python",
   "name": "python",
   "nbconvert_exporter": "python",
   "pygments_lexer": "ipython3",
   "version": "3.5.6"
  }
 },
 "nbformat": 4,
 "nbformat_minor": 2
}
